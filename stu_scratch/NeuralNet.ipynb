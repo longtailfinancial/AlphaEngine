{
 "cells": [
  {
   "cell_type": "code",
   "execution_count": 3,
   "metadata": {},
   "outputs": [],
   "source": [
    "from alphaengine import stats, transforms, loaders"
   ]
  },
  {
   "cell_type": "code",
   "execution_count": 35,
   "metadata": {},
   "outputs": [],
   "source": [
    "from tensorflow import keras\n",
    "import tensorflow as tf"
   ]
  },
  {
   "cell_type": "code",
   "execution_count": 8,
   "metadata": {},
   "outputs": [],
   "source": [
    "import numpy as np"
   ]
  },
  {
   "cell_type": "code",
   "execution_count": 5,
   "metadata": {},
   "outputs": [],
   "source": [
    "gld = loaders.FileInstrument('../../../Developer/Data/prices/AMEX/GLD.csv')"
   ]
  },
  {
   "cell_type": "code",
   "execution_count": 6,
   "metadata": {},
   "outputs": [],
   "source": [
    "perfect_strategy = gld['forward_returns'] > 0"
   ]
  },
  {
   "cell_type": "code",
   "execution_count": 11,
   "metadata": {},
   "outputs": [],
   "source": [
    "back_returns = np.diff(gld['close'], prepend=gld['close'][0])"
   ]
  },
  {
   "cell_type": "code",
   "execution_count": 12,
   "metadata": {},
   "outputs": [],
   "source": []
  },
  {
   "cell_type": "code",
   "execution_count": 90,
   "metadata": {},
   "outputs": [],
   "source": [
    "X = transforms.z_score(gld['close'], window_size=100)"
   ]
  },
  {
   "cell_type": "code",
   "execution_count": 91,
   "metadata": {},
   "outputs": [],
   "source": [
    "X_window = transforms.rolling_window(X, window_size=100)"
   ]
  },
  {
   "cell_type": "code",
   "execution_count": 92,
   "metadata": {},
   "outputs": [
    {
     "data": {
      "text/plain": [
       "(3952, 100)"
      ]
     },
     "execution_count": 92,
     "metadata": {},
     "output_type": "execute_result"
    }
   ],
   "source": [
    "X_window.shape"
   ]
  },
  {
   "cell_type": "code",
   "execution_count": 93,
   "metadata": {},
   "outputs": [],
   "source": [
    "Y = perfect_strategy.astype(int)"
   ]
  },
  {
   "cell_type": "code",
   "execution_count": 94,
   "metadata": {},
   "outputs": [],
   "source": [
    "X_window_no_nan = X_window[200:]\n",
    "Y_no_nan = Y[200:]"
   ]
  },
  {
   "cell_type": "code",
   "execution_count": 95,
   "metadata": {},
   "outputs": [
    {
     "data": {
      "text/plain": [
       "(3752,)"
      ]
     },
     "execution_count": 95,
     "metadata": {},
     "output_type": "execute_result"
    }
   ],
   "source": [
    "Y_no_nan.shape"
   ]
  },
  {
   "cell_type": "code",
   "execution_count": 96,
   "metadata": {},
   "outputs": [],
   "source": [
    "idx = int(len(Y_no_nan) * 0.75)"
   ]
  },
  {
   "cell_type": "code",
   "execution_count": 97,
   "metadata": {},
   "outputs": [],
   "source": [
    "X_train = np.expand_dims(X_window_no_nan[:idx], axis=1)\n",
    "X_test = np.expand_dims(X_window_no_nan[idx:], axis=1)\n",
    "\n",
    "Y_train = np.expand_dims(Y_no_nan[:idx], axis=1)\n",
    "Y_test = np.expand_dims(Y_no_nan[idx:], axis=1)"
   ]
  },
  {
   "cell_type": "code",
   "execution_count": 122,
   "metadata": {},
   "outputs": [
    {
     "name": "stdout",
     "output_type": "stream",
     "text": [
      "Epoch 1/10\n",
      "88/88 [==============================] - 0s 3ms/step - loss: 0.7085 - binary_accuracy: 0.5101\n",
      "Epoch 2/10\n",
      "88/88 [==============================] - 0s 3ms/step - loss: 0.6935 - binary_accuracy: 0.5322\n",
      "Epoch 3/10\n",
      "88/88 [==============================] - 0s 3ms/step - loss: 0.6962 - binary_accuracy: 0.5318\n",
      "Epoch 4/10\n",
      "88/88 [==============================] - 0s 3ms/step - loss: 0.6914 - binary_accuracy: 0.5339\n",
      "Epoch 5/10\n",
      "88/88 [==============================] - 0s 3ms/step - loss: 0.6868 - binary_accuracy: 0.5411\n",
      "Epoch 6/10\n",
      "88/88 [==============================] - 0s 3ms/step - loss: 0.6816 - binary_accuracy: 0.5645\n",
      "Epoch 7/10\n",
      "88/88 [==============================] - 0s 3ms/step - loss: 0.6787 - binary_accuracy: 0.5546\n",
      "Epoch 8/10\n",
      "88/88 [==============================] - 0s 4ms/step - loss: 0.6804 - binary_accuracy: 0.5610\n",
      "Epoch 9/10\n",
      "88/88 [==============================] - 0s 3ms/step - loss: 0.6739 - binary_accuracy: 0.5784\n",
      "Epoch 10/10\n",
      "88/88 [==============================] - 0s 3ms/step - loss: 0.6714 - binary_accuracy: 0.5791\n"
     ]
    },
    {
     "data": {
      "text/plain": [
       "<tensorflow.python.keras.callbacks.History at 0x7fb8662c9dd8>"
      ]
     },
     "execution_count": 122,
     "metadata": {},
     "output_type": "execute_result"
    }
   ],
   "source": [
    "\n",
    "model = tf.keras.Sequential([\n",
    "    tf.keras.layers.LSTM(200),\n",
    "    tf.keras.layers.Dense(1, activation='sigmoid')\n",
    "])\n",
    "\n",
    "model.compile(optimizer='adam', loss=tf.keras.losses.BinaryCrossentropy(), metrics=tf.keras.metrics.BinaryAccuracy())\n",
    "model.fit(X_train[:-1], Y_train[1:], epochs=10)"
   ]
  },
  {
   "cell_type": "code",
   "execution_count": 123,
   "metadata": {},
   "outputs": [
    {
     "name": "stdout",
     "output_type": "stream",
     "text": [
      "30/30 [==============================] - 0s 1ms/step - loss: 0.7165 - binary_accuracy: 0.4904\n"
     ]
    }
   ],
   "source": [
    "scores = model.evaluate(X_test, Y_test, verbose=1)"
   ]
  },
  {
   "cell_type": "code",
   "execution_count": 124,
   "metadata": {},
   "outputs": [],
   "source": [
    "preds = model.predict(X_test)"
   ]
  },
  {
   "cell_type": "code",
   "execution_count": 125,
   "metadata": {},
   "outputs": [
    {
     "data": {
      "text/plain": [
       "array([0.54255253, 0.5257939 , 0.5246915 , 0.5272112 , 0.5320928 ,\n",
       "       0.503272  , 0.523825  , 0.5333819 , 0.55598813, 0.5806011 ,\n",
       "       0.6121721 , 0.60804594, 0.60080427, 0.57967246, 0.5800069 ,\n",
       "       0.5867235 , 0.57190686, 0.5968916 , 0.6293058 , 0.6531975 ,\n",
       "       0.66365576, 0.64684904, 0.6605519 , 0.67593384, 0.6765717 ,\n",
       "       0.69174695, 0.6781937 , 0.694283  , 0.7099786 , 0.6921246 ,\n",
       "       0.6760838 , 0.6463569 , 0.66614044, 0.672839  , 0.6654117 ,\n",
       "       0.6587542 , 0.64905643, 0.6548727 , 0.63338256, 0.5962857 ,\n",
       "       0.56736284, 0.54199404, 0.53713536, 0.53734666, 0.53739756,\n",
       "       0.5236165 , 0.5023517 , 0.50447005, 0.5048364 , 0.4919663 ,\n",
       "       0.51413804, 0.5275453 , 0.54342663, 0.5501925 , 0.5237574 ,\n",
       "       0.5241717 , 0.5406413 , 0.56036294, 0.5697383 , 0.55207556,\n",
       "       0.53233373, 0.54034793, 0.524692  , 0.53415614, 0.51527506,\n",
       "       0.51671505, 0.51116633, 0.5017539 , 0.5122224 , 0.53675663,\n",
       "       0.5337533 , 0.56725276, 0.58545065, 0.6168521 , 0.61340475,\n",
       "       0.60997736, 0.6293602 , 0.62473446, 0.63757855, 0.6365912 ,\n",
       "       0.64345914, 0.6414618 , 0.62923956, 0.6220787 , 0.5927968 ,\n",
       "       0.60075283, 0.61073124, 0.6176586 , 0.6333593 , 0.6432437 ,\n",
       "       0.66641986, 0.6759003 , 0.66464615, 0.67232126, 0.66058517,\n",
       "       0.6833652 , 0.67845094, 0.67253995, 0.69357437, 0.6747973 ,\n",
       "       0.688168  , 0.671298  , 0.6594006 , 0.6220599 , 0.5783916 ,\n",
       "       0.52357984, 0.48130524, 0.47557372, 0.45745113, 0.4773894 ,\n",
       "       0.55643296, 0.64305794, 0.71226513, 0.7549681 , 0.76914346,\n",
       "       0.76423687, 0.72945404, 0.7228564 , 0.6735346 , 0.6701667 ,\n",
       "       0.620761  , 0.60801685, 0.6023856 , 0.60165954, 0.5630758 ,\n",
       "       0.5765358 , 0.59295684, 0.63032484, 0.58666354, 0.60327625,\n",
       "       0.6142422 , 0.64305866, 0.5799422 , 0.5090933 , 0.50423425,\n",
       "       0.5196023 , 0.5132611 , 0.4943909 , 0.5436313 , 0.60176766,\n",
       "       0.62566817, 0.6102761 , 0.62503356, 0.6196716 , 0.5807854 ,\n",
       "       0.5161879 , 0.5084635 , 0.5017641 , 0.49920717, 0.48024067,\n",
       "       0.5219098 , 0.54377604, 0.5489234 , 0.5308874 , 0.5092523 ,\n",
       "       0.4916431 , 0.4899084 , 0.4707014 , 0.4473147 , 0.40505475,\n",
       "       0.3559472 , 0.35878024, 0.3640229 , 0.36577338, 0.3644517 ,\n",
       "       0.3756896 , 0.37471884, 0.39957613, 0.38259867, 0.41624397,\n",
       "       0.45930576, 0.48494032, 0.46460646, 0.47029513, 0.47238535,\n",
       "       0.5085628 , 0.5336575 , 0.5376982 , 0.5462702 , 0.5607985 ,\n",
       "       0.56430227, 0.5476476 , 0.4995749 , 0.48235965, 0.46445018,\n",
       "       0.4282616 , 0.3990742 , 0.37703317, 0.35585207, 0.3510121 ,\n",
       "       0.3262006 , 0.31298596, 0.3069391 , 0.30774587, 0.3071754 ,\n",
       "       0.3228441 , 0.32193008, 0.32672483, 0.33110747, 0.3141253 ,\n",
       "       0.31268668, 0.31127816, 0.31175363, 0.32481074, 0.3238778 ,\n",
       "       0.3445326 , 0.3413189 , 0.31874606, 0.30108434, 0.29828447,\n",
       "       0.2901343 , 0.2934588 , 0.29541793, 0.30124152, 0.31322497,\n",
       "       0.3257504 , 0.33531505, 0.3541215 , 0.3774523 , 0.39003563,\n",
       "       0.39288422, 0.39305043, 0.39989144, 0.39939845, 0.40161446,\n",
       "       0.40875316, 0.4078471 , 0.40732354, 0.40942693, 0.4245525 ,\n",
       "       0.43163353, 0.4368314 , 0.45479   , 0.46587032, 0.47439563,\n",
       "       0.48344508, 0.48969424, 0.49045932, 0.48173034, 0.48796892,\n",
       "       0.48881018, 0.49233404, 0.48960528, 0.4922658 , 0.49697068,\n",
       "       0.50524473, 0.51361173, 0.51269525, 0.5028188 , 0.500456  ,\n",
       "       0.5098362 , 0.50099146, 0.5029561 , 0.50729525, 0.50795424,\n",
       "       0.50582707, 0.50543696, 0.5200791 , 0.54109514, 0.54270995,\n",
       "       0.55279607, 0.56646395, 0.58316356, 0.60320866, 0.6088203 ,\n",
       "       0.6151054 , 0.60031813, 0.58160055, 0.5741821 , 0.5685487 ,\n",
       "       0.5509931 , 0.5271866 , 0.5211587 , 0.5024131 , 0.5107146 ,\n",
       "       0.5065132 , 0.525522  , 0.5420331 , 0.5438924 , 0.5932655 ,\n",
       "       0.6144036 , 0.6169661 , 0.63716805, 0.65644544, 0.65820324,\n",
       "       0.6553168 , 0.64513135, 0.6533002 , 0.6339795 , 0.6100748 ,\n",
       "       0.6093284 , 0.60483944, 0.6154452 , 0.5931108 , 0.6037847 ,\n",
       "       0.6282088 , 0.6438733 , 0.6482416 , 0.60896677, 0.57903576,\n",
       "       0.5770348 , 0.5672148 , 0.5693326 , 0.58394426, 0.5877688 ,\n",
       "       0.5679433 , 0.52899   , 0.52197754, 0.5406232 , 0.5919024 ,\n",
       "       0.593654  , 0.620664  , 0.67697626, 0.68807006, 0.6818497 ,\n",
       "       0.65551466, 0.659171  , 0.6502859 , 0.65233046, 0.6489455 ,\n",
       "       0.669875  , 0.6696075 , 0.65335524, 0.6755786 , 0.67621386,\n",
       "       0.6746259 , 0.6980881 , 0.71762913, 0.7110121 , 0.69215626,\n",
       "       0.6705241 , 0.6608845 , 0.6355799 , 0.62670314, 0.5877112 ,\n",
       "       0.5736121 , 0.56415963, 0.57364964, 0.5737929 , 0.5556132 ,\n",
       "       0.5528346 , 0.5301981 , 0.52481836, 0.510004  , 0.50554043,\n",
       "       0.5091887 , 0.51823306, 0.517431  , 0.49488196, 0.5062607 ,\n",
       "       0.51838744, 0.5170284 , 0.47959965, 0.47409362, 0.4521526 ,\n",
       "       0.42983678, 0.4291924 , 0.43175408, 0.46334487, 0.46114522,\n",
       "       0.46837032, 0.4811153 , 0.5013772 , 0.5231908 , 0.5160197 ,\n",
       "       0.5173877 , 0.51558304, 0.5089245 , 0.47957402, 0.47656912,\n",
       "       0.48134732, 0.47851795, 0.45656973, 0.44698983, 0.44869542,\n",
       "       0.4377119 , 0.43945536, 0.42073083, 0.42529136, 0.44580466,\n",
       "       0.4643799 , 0.46218148, 0.4884153 , 0.5223749 , 0.53239936,\n",
       "       0.54871416, 0.57190335, 0.58867794, 0.58128035, 0.5828444 ,\n",
       "       0.59462595, 0.601154  , 0.62024647, 0.64376765, 0.6454664 ,\n",
       "       0.6355993 , 0.61938524, 0.61848724, 0.606274  , 0.60396314,\n",
       "       0.63320917, 0.6159277 , 0.60730135, 0.6000274 , 0.5957163 ,\n",
       "       0.59530574, 0.5295333 , 0.4706559 , 0.45153046, 0.41749787,\n",
       "       0.4050444 , 0.4333299 , 0.50358856, 0.5227601 , 0.5847964 ,\n",
       "       0.6271901 , 0.6456137 , 0.6829002 , 0.66031384, 0.69903815,\n",
       "       0.6999981 , 0.6873735 , 0.6736361 , 0.65695965, 0.64531416,\n",
       "       0.6027333 , 0.59393555, 0.5821538 , 0.5439132 , 0.56054384,\n",
       "       0.56982535, 0.56918126, 0.5976643 , 0.6216646 , 0.61140025,\n",
       "       0.6013228 , 0.61490387, 0.6113855 , 0.6430981 , 0.6392305 ,\n",
       "       0.64565766, 0.6512016 , 0.634571  , 0.61131907, 0.5899024 ,\n",
       "       0.551709  , 0.53083444, 0.5145844 , 0.49845272, 0.48151052,\n",
       "       0.45220903, 0.44392636, 0.40688124, 0.414927  , 0.41414285,\n",
       "       0.44098112, 0.4785591 , 0.4728654 , 0.48777804, 0.49337208,\n",
       "       0.49482104, 0.51338077, 0.524054  , 0.51981914, 0.47294798,\n",
       "       0.45811057, 0.43010405, 0.4207154 , 0.43577975, 0.4533437 ,\n",
       "       0.49871534, 0.5191346 , 0.54346645, 0.53303975, 0.5136868 ,\n",
       "       0.48282543, 0.47603488, 0.45979092, 0.4792787 , 0.48169395,\n",
       "       0.487683  , 0.47642294, 0.49267843, 0.5245113 , 0.5426253 ,\n",
       "       0.55673003, 0.5497618 , 0.5334127 , 0.52237785, 0.5244636 ,\n",
       "       0.53005326, 0.5535323 , 0.5704796 , 0.56392086, 0.569386  ,\n",
       "       0.5612454 , 0.54577196, 0.5615445 , 0.5665304 , 0.584918  ,\n",
       "       0.6042641 , 0.5964973 , 0.5974783 , 0.62271446, 0.6803465 ,\n",
       "       0.72838897, 0.7244198 , 0.72361606, 0.6997835 , 0.67229044,\n",
       "       0.6213468 , 0.5956203 , 0.5702757 , 0.58600974, 0.60617954,\n",
       "       0.6284816 , 0.6721546 , 0.7135356 , 0.74808526, 0.7506195 ,\n",
       "       0.7320167 , 0.7232708 , 0.72137964, 0.71043473, 0.71669066,\n",
       "       0.69278395, 0.6913283 , 0.6912131 , 0.7148471 , 0.66915643,\n",
       "       0.645139  , 0.635641  , 0.635703  , 0.61987305, 0.6377715 ,\n",
       "       0.66165984, 0.65216327, 0.5989716 , 0.58506405, 0.57104206,\n",
       "       0.5168821 , 0.50573957, 0.52873063, 0.5499464 , 0.53924406,\n",
       "       0.5966588 , 0.604027  , 0.63139826, 0.638697  , 0.67533445,\n",
       "       0.6064258 , 0.5541179 , 0.46668446, 0.52444154, 0.511855  ,\n",
       "       0.5268904 , 0.507836  , 0.5605021 , 0.56789374, 0.5664457 ,\n",
       "       0.5643628 , 0.5598751 , 0.5518059 , 0.5115625 , 0.49141273,\n",
       "       0.45951617, 0.44591373, 0.4510807 , 0.5015059 , 0.4260918 ,\n",
       "       0.41713804, 0.4519126 , 0.48219702, 0.43560433, 0.46958086,\n",
       "       0.50239456, 0.48317567, 0.42563656, 0.37143344, 0.365809  ,\n",
       "       0.347843  , 0.31599152, 0.32107478, 0.35299867, 0.3433071 ,\n",
       "       0.38114563, 0.37722012, 0.39789295, 0.4199692 , 0.45927444,\n",
       "       0.44523185, 0.4554858 , 0.42500383, 0.44218886, 0.4499311 ,\n",
       "       0.4671594 , 0.48779663, 0.50850266, 0.5252846 , 0.522822  ,\n",
       "       0.51318103, 0.5104657 , 0.48551598, 0.43393743, 0.40411973,\n",
       "       0.4036692 , 0.371496  , 0.37315047, 0.3692866 , 0.34611526,\n",
       "       0.35212642, 0.35072613, 0.37089276, 0.39307237, 0.4270574 ,\n",
       "       0.42049342, 0.42864287, 0.40121293, 0.39255834, 0.3958903 ,\n",
       "       0.40144786, 0.42453003, 0.38746697, 0.36607313, 0.34231812,\n",
       "       0.33637714, 0.30888265, 0.32119578, 0.34662473, 0.36668462,\n",
       "       0.34921074, 0.35204422, 0.3660873 , 0.3498152 , 0.34905463,\n",
       "       0.3460201 , 0.38414648, 0.40139607, 0.41199493, 0.41398937,\n",
       "       0.40923333, 0.3837229 , 0.36425042, 0.36250654, 0.3351485 ,\n",
       "       0.3181852 , 0.3118234 , 0.31886977, 0.32074568, 0.31291366,\n",
       "       0.320064  , 0.3556371 , 0.36668277, 0.38616544, 0.38390023,\n",
       "       0.36255503, 0.34404442, 0.3349696 , 0.3350438 , 0.34834534,\n",
       "       0.35180485, 0.36676437, 0.3843448 , 0.39469397, 0.407542  ,\n",
       "       0.42224747, 0.44106263, 0.44891563, 0.45865938, 0.47272152,\n",
       "       0.4656294 , 0.4671191 , 0.48510787, 0.5008663 , 0.51635647,\n",
       "       0.5090118 , 0.51853645, 0.5255652 , 0.52178544, 0.5212534 ,\n",
       "       0.5184743 , 0.52971363, 0.5306517 , 0.542467  , 0.5296296 ,\n",
       "       0.51704   , 0.4992975 , 0.48895   , 0.4655123 , 0.4591285 ,\n",
       "       0.47073096, 0.48675346, 0.50241643, 0.5115806 , 0.5021478 ,\n",
       "       0.49555334, 0.4773193 , 0.48728898, 0.49047655, 0.51067924,\n",
       "       0.5277271 , 0.56437856, 0.57724833, 0.5797844 , 0.559412  ,\n",
       "       0.5391961 , 0.5186396 , 0.50251925, 0.48971805, 0.49583602,\n",
       "       0.49624744, 0.49773818, 0.5186526 , 0.5256653 , 0.541786  ,\n",
       "       0.5451756 , 0.5552022 , 0.53629106, 0.5157595 , 0.510414  ,\n",
       "       0.50196886, 0.4957671 , 0.51134884, 0.5301782 , 0.55972457,\n",
       "       0.5918501 , 0.60543513, 0.62515116, 0.62566304, 0.6323495 ,\n",
       "       0.62412935, 0.6206009 , 0.611513  , 0.5942653 , 0.59429747,\n",
       "       0.5853495 , 0.5699941 , 0.56391233, 0.5567139 , 0.5616063 ,\n",
       "       0.5799451 , 0.5915486 , 0.5951297 , 0.58335966, 0.6065715 ,\n",
       "       0.6122519 , 0.6089039 , 0.6093323 , 0.61193466, 0.6176362 ,\n",
       "       0.60319734, 0.59880745, 0.5721908 , 0.57273513, 0.573644  ,\n",
       "       0.56877744, 0.5749126 , 0.5772801 , 0.55882394, 0.559828  ,\n",
       "       0.580943  , 0.5766816 , 0.59113485, 0.5954869 , 0.57861274,\n",
       "       0.5889156 , 0.5908735 , 0.61302686, 0.6282634 , 0.64137506,\n",
       "       0.6673005 , 0.6312151 , 0.6103419 , 0.56998974, 0.581592  ,\n",
       "       0.56565917, 0.56690466, 0.5317468 , 0.48184407, 0.46013102,\n",
       "       0.44640335, 0.43259507, 0.44454846, 0.52694863, 0.5937829 ,\n",
       "       0.6252816 , 0.62746084, 0.61563134, 0.60658294, 0.57579273,\n",
       "       0.5434439 , 0.53638107, 0.5651709 , 0.60974157, 0.6565695 ,\n",
       "       0.70690453, 0.7186283 , 0.7399091 , 0.7542048 , 0.75249827,\n",
       "       0.71992254, 0.70181286, 0.6901178 , 0.6558271 , 0.59953004,\n",
       "       0.55566585, 0.55114573, 0.5651909 , 0.5665153 , 0.5707421 ,\n",
       "       0.5844446 , 0.59845436, 0.61559016, 0.65378416, 0.6575894 ,\n",
       "       0.64507747, 0.63843197, 0.6319756 , 0.57775444, 0.51083446,\n",
       "       0.4724627 , 0.44287866, 0.4363929 , 0.43445393, 0.44628713,\n",
       "       0.45183128, 0.44172186, 0.42802286, 0.4161297 , 0.40592206,\n",
       "       0.40286836, 0.43672937, 0.43953   , 0.44425145, 0.43701112,\n",
       "       0.44408032, 0.4781332 , 0.5155115 , 0.5266175 , 0.5272574 ,\n",
       "       0.5159919 , 0.5213931 , 0.5328917 , 0.5197384 , 0.49723244,\n",
       "       0.48158625, 0.46082467, 0.45492962, 0.46260765, 0.4855141 ,\n",
       "       0.5141    , 0.5331111 , 0.54099673, 0.54925454, 0.5397896 ,\n",
       "       0.5405535 , 0.55096537, 0.5523628 , 0.54200476, 0.54887223,\n",
       "       0.56432563, 0.570581  , 0.5664895 , 0.58090794, 0.603462  ,\n",
       "       0.61873513, 0.6267802 , 0.63143486, 0.6347626 , 0.63340104,\n",
       "       0.6315942 , 0.6109471 , 0.59566575, 0.56042933, 0.5575728 ,\n",
       "       0.5487255 , 0.54711044, 0.54921097, 0.5455265 , 0.55332935,\n",
       "       0.55208   , 0.56064546, 0.5608402 , 0.559411  , 0.55921674,\n",
       "       0.5692175 , 0.568944  , 0.5842372 , 0.590688  , 0.61423194,\n",
       "       0.62167585, 0.6319709 , 0.63087934, 0.6331413 , 0.6133575 ,\n",
       "       0.59380174, 0.5769876 , 0.57218134, 0.562064  , 0.55419236,\n",
       "       0.55616677, 0.58044523, 0.59691083, 0.6253969 , 0.6251044 ,\n",
       "       0.62544346, 0.62175876, 0.60374963, 0.57848907, 0.5749269 ,\n",
       "       0.57836497, 0.57567227, 0.5776404 , 0.5825917 , 0.5800481 ,\n",
       "       0.56356573, 0.56738865, 0.5792396 , 0.58661366, 0.60158044,\n",
       "       0.61969346, 0.6109008 , 0.6309715 , 0.61265004, 0.59077245,\n",
       "       0.5553778 , 0.5252717 , 0.49751186, 0.46230352, 0.46423563,\n",
       "       0.51263094, 0.55453646, 0.5681669 , 0.56253576, 0.5624877 ,\n",
       "       0.5744129 , 0.595223  , 0.60663235], dtype=float32)"
      ]
     },
     "execution_count": 125,
     "metadata": {},
     "output_type": "execute_result"
    }
   ],
   "source": [
    "preds[:,0]"
   ]
  },
  {
   "cell_type": "code",
   "execution_count": 120,
   "metadata": {},
   "outputs": [],
   "source": [
    "import matplotlib.pyplot as plt"
   ]
  },
  {
   "cell_type": "code",
   "execution_count": 121,
   "metadata": {},
   "outputs": [
    {
     "data": {
      "text/plain": [
       "[<matplotlib.lines.Line2D at 0x7fb86629f908>]"
      ]
     },
     "execution_count": 121,
     "metadata": {},
     "output_type": "execute_result"
    },
    {
     "data": {
      "image/png": "[encoded data removed]",
      "text/plain": [
       "<Figure size 432x288 with 1 Axes>"
      ]
     },
     "metadata": {
      "needs_background": "light"
     },
     "output_type": "display_data"
    }
   ],
   "source": [
    "plt.plot(preds[:,0])"
   ]
  },
  {
   "cell_type": "code",
   "execution_count": null,
   "metadata": {},
   "outputs": [],
   "source": []
  }
 ],
 "metadata": {
  "kernelspec": {
   "display_name": "Python 3",
   "language": "python",
   "name": "python3"
  },
  "language_info": {
   "codemirror_mode": {
    "name": "ipython",
    "version": 3
   },
   "file_extension": ".py",
   "mimetype": "text/x-python",
   "name": "python",
   "nbconvert_exporter": "python",
   "pygments_lexer": "ipython3",
   "version": "3.6.5"
  }
 },
 "nbformat": 4,
 "nbformat_minor": 2
}
